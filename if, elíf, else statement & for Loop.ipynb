{
 "cells": [
  {
   "cell_type": "code",
   "execution_count": 1,
   "id": "813a1a3b",
   "metadata": {},
   "outputs": [
    {
     "name": "stdout",
     "output_type": "stream",
     "text": [
      "No Idea\n"
     ]
    }
   ],
   "source": [
    "# Statements(if, elif,else)\n",
    "\n",
    "loc = 'Street'\n",
    "\n",
    "if loc == 'Auto Shop':\n",
    "    print('Buy Audi')\n",
    "elif loc == 'Bank':\n",
    "    print('Money')\n",
    "else:\n",
    "    print('No Idea')"
   ]
  },
  {
   "cell_type": "code",
   "execution_count": 2,
   "id": "b7604e44",
   "metadata": {},
   "outputs": [
    {
     "name": "stdout",
     "output_type": "stream",
     "text": [
      "Have a good day\n",
      "Have a good day\n",
      "Have a good day\n",
      "Have a good day\n",
      "Have a good day\n"
     ]
    }
   ],
   "source": [
    "# For loops\n",
    "\n",
    "mylist = [1,2,3,4,5]\n",
    "\n",
    "for num in mylist:\n",
    "    print(\"Have a good day\")"
   ]
  },
  {
   "cell_type": "code",
   "execution_count": 3,
   "id": "ec557f8b",
   "metadata": {},
   "outputs": [
    {
     "name": "stdout",
     "output_type": "stream",
     "text": [
      "1 is Odd Number\n",
      "Even Number\n",
      "3 is Odd Number\n",
      "Even Number\n",
      "5 is Odd Number\n"
     ]
    }
   ],
   "source": [
    "for num in mylist:\n",
    "    if num % 2 == 0:\n",
    "        print('Even Number')\n",
    "    else:\n",
    "        print(f'{num} is Odd Number')"
   ]
  },
  {
   "cell_type": "code",
   "execution_count": 4,
   "id": "a20249c6",
   "metadata": {},
   "outputs": [
    {
     "name": "stdout",
     "output_type": "stream",
     "text": [
      "15\n"
     ]
    }
   ],
   "source": [
    "total_sum = 0\n",
    "\n",
    "for num in mylist:\n",
    "    total_sum = total_sum + num\n",
    "\n",
    "print(total_sum)"
   ]
  },
  {
   "cell_type": "code",
   "execution_count": 5,
   "id": "9c3b5fc8",
   "metadata": {},
   "outputs": [
    {
     "name": "stdout",
     "output_type": "stream",
     "text": [
      "1\n",
      "3\n",
      "6\n",
      "10\n",
      "15\n"
     ]
    }
   ],
   "source": [
    "total_sum = 0\n",
    "\n",
    "for num in mylist:\n",
    "    total_sum = total_sum + num\n",
    "\n",
    "    print(total_sum)"
   ]
  },
  {
   "cell_type": "code",
   "execution_count": 6,
   "id": "62b8dda0",
   "metadata": {},
   "outputs": [
    {
     "name": "stdout",
     "output_type": "stream",
     "text": [
      "H\n",
      "e\n",
      "l\n",
      "l\n",
      "o\n",
      " \n",
      "W\n",
      "o\n",
      "r\n",
      "l\n",
      "d\n",
      "!\n"
     ]
    }
   ],
   "source": [
    "mystring = 'Hello World!'\n",
    "\n",
    "for letters in mystring:\n",
    "    print(letters)"
   ]
  },
  {
   "cell_type": "code",
   "execution_count": 7,
   "id": "8a00aa12",
   "metadata": {},
   "outputs": [
    {
     "name": "stdout",
     "output_type": "stream",
     "text": [
      "E\n",
      "u\n",
      "r\n",
      "o\n",
      "p\n",
      "e\n"
     ]
    }
   ],
   "source": [
    "# Alternative\n",
    "\n",
    "for letters in 'Europe':\n",
    "    print(letters)"
   ]
  },
  {
   "cell_type": "code",
   "execution_count": null,
   "id": "60b3fd89",
   "metadata": {},
   "outputs": [],
   "source": []
  }
 ],
 "metadata": {
  "kernelspec": {
   "display_name": "Python 3 (ipykernel)",
   "language": "python",
   "name": "python3"
  },
  "language_info": {
   "codemirror_mode": {
    "name": "ipython",
    "version": 3
   },
   "file_extension": ".py",
   "mimetype": "text/x-python",
   "name": "python",
   "nbconvert_exporter": "python",
   "pygments_lexer": "ipython3",
   "version": "3.10.10"
  }
 },
 "nbformat": 4,
 "nbformat_minor": 5
}
