{
 "cells": [
  {
   "cell_type": "code",
   "execution_count": 1,
   "id": "55a2ebc9",
   "metadata": {},
   "outputs": [],
   "source": [
    "def myfunc (a,b):\n",
    "    return sum ((a,b))*0.05"
   ]
  },
  {
   "cell_type": "code",
   "execution_count": 2,
   "id": "dbac2d12",
   "metadata": {},
   "outputs": [
    {
     "data": {
      "text/plain": [
       "5.0"
      ]
     },
     "execution_count": 2,
     "metadata": {},
     "output_type": "execute_result"
    }
   ],
   "source": [
    "myfunc(40,60)"
   ]
  },
  {
   "cell_type": "code",
   "execution_count": 4,
   "id": "9b2c18d2",
   "metadata": {},
   "outputs": [],
   "source": [
    "# for multiple positional arguments or work more than 2 numbers\n",
    "\n",
    "def myfunc(*args):\n",
    "    for item in args:\n",
    "        print(item)\n"
   ]
  },
  {
   "cell_type": "code",
   "execution_count": 5,
   "id": "8080774d",
   "metadata": {},
   "outputs": [
    {
     "name": "stdout",
     "output_type": "stream",
     "text": [
      "40\n",
      "60\n",
      "100\n",
      "200\n"
     ]
    }
   ],
   "source": [
    "myfunc(40,60,100,200)"
   ]
  },
  {
   "cell_type": "code",
   "execution_count": 6,
   "id": "be747e7b",
   "metadata": {},
   "outputs": [],
   "source": [
    "def myfunc(*args):\n",
    "    return sum(args) * 0.05"
   ]
  },
  {
   "cell_type": "code",
   "execution_count": 7,
   "id": "10cdbbd8",
   "metadata": {},
   "outputs": [
    {
     "data": {
      "text/plain": [
       "12.5"
      ]
     },
     "execution_count": 7,
     "metadata": {},
     "output_type": "execute_result"
    }
   ],
   "source": [
    "myfunc(100,50,60,40)"
   ]
  },
  {
   "cell_type": "code",
   "execution_count": 8,
   "id": "59888cc1",
   "metadata": {},
   "outputs": [],
   "source": [
    "# handle arbitary number of key word arguments\n",
    "# Return dictionary format\n",
    "\n",
    "def myfunc(**kwargs):\n",
    "    if 'fruit' in kwargs:\n",
    "        print('My fruit of choice is {}'.format(kwargs ['fruit']))\n",
    "    else:\n",
    "        print('I did not find any fruit here!')"
   ]
  },
  {
   "cell_type": "code",
   "execution_count": 9,
   "id": "8d1c6c77",
   "metadata": {},
   "outputs": [
    {
     "name": "stdout",
     "output_type": "stream",
     "text": [
      "My fruit of choice is apple\n"
     ]
    }
   ],
   "source": [
    "myfunc(fruit ='apple')"
   ]
  },
  {
   "cell_type": "code",
   "execution_count": 10,
   "id": "e43c9bf7",
   "metadata": {},
   "outputs": [
    {
     "name": "stdout",
     "output_type": "stream",
     "text": [
      "My fruit of choice is apple\n"
     ]
    }
   ],
   "source": [
    "myfunc(fruit ='apple', veggie = 'Potato')"
   ]
  },
  {
   "cell_type": "code",
   "execution_count": 13,
   "id": "18e57edd",
   "metadata": {},
   "outputs": [],
   "source": [
    "def myfunc(*args,**kwargs):\n",
    "    print(args)\n",
    "    print(kwargs)\n",
    "    print('I would like {} {}'.format(args[0],kwargs['food']))"
   ]
  },
  {
   "cell_type": "code",
   "execution_count": 14,
   "id": "99bcf024",
   "metadata": {},
   "outputs": [
    {
     "name": "stdout",
     "output_type": "stream",
     "text": [
      "(10, 20, 30)\n",
      "{'fruit': 'Orange', 'food': 'Eggs', 'animal': 'cat'}\n",
      "I would like 10 Eggs\n"
     ]
    }
   ],
   "source": [
    "myfunc(10,20,30,fruit='Orange', food='Eggs',animal='cat')"
   ]
  }
 ],
 "metadata": {
  "kernelspec": {
   "display_name": "Python 3 (ipykernel)",
   "language": "python",
   "name": "python3"
  },
  "language_info": {
   "codemirror_mode": {
    "name": "ipython",
    "version": 3
   },
   "file_extension": ".py",
   "mimetype": "text/x-python",
   "name": "python",
   "nbconvert_exporter": "python",
   "pygments_lexer": "ipython3",
   "version": "3.10.10"
  }
 },
 "nbformat": 4,
 "nbformat_minor": 5
}
