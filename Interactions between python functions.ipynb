{
 "cells": [
  {
   "cell_type": "code",
   "execution_count": 1,
   "id": "9f78796a",
   "metadata": {},
   "outputs": [],
   "source": [
    "# Interactions between Functions\n",
    "\n",
    "example = [1,2,3,4,5,6]\n",
    "\n",
    "from random import shuffle\n",
    "\n",
    "shuffle(example)"
   ]
  },
  {
   "cell_type": "code",
   "execution_count": 2,
   "id": "5e0d9b96",
   "metadata": {},
   "outputs": [
    {
     "data": {
      "text/plain": [
       "[1, 6, 2, 3, 4, 5]"
      ]
     },
     "execution_count": 2,
     "metadata": {},
     "output_type": "execute_result"
    }
   ],
   "source": [
    "# Randomly shuffle of items\n",
    "example"
   ]
  },
  {
   "cell_type": "code",
   "execution_count": 3,
   "id": "199cb1bc",
   "metadata": {},
   "outputs": [],
   "source": [
    "def shuffle_list (mylist):\n",
    "    shuffle(mylist)\n",
    "    return mylist"
   ]
  },
  {
   "cell_type": "code",
   "execution_count": 4,
   "id": "cf8e330f",
   "metadata": {},
   "outputs": [],
   "source": [
    "result = shuffle_list(example)"
   ]
  },
  {
   "cell_type": "code",
   "execution_count": 5,
   "id": "bf577ce6",
   "metadata": {},
   "outputs": [
    {
     "data": {
      "text/plain": [
       "[4, 1, 3, 2, 5, 6]"
      ]
     },
     "execution_count": 5,
     "metadata": {},
     "output_type": "execute_result"
    }
   ],
   "source": [
    "result"
   ]
  },
  {
   "cell_type": "code",
   "execution_count": 6,
   "id": "88c39704",
   "metadata": {},
   "outputs": [],
   "source": [
    "#Game list\n",
    "# User try to guess where is 'O'\n",
    "\n",
    "mylist = [' ','O', ' ']\n",
    "\n",
    "shuffle(mylist)"
   ]
  },
  {
   "cell_type": "code",
   "execution_count": 7,
   "id": "0a5b2019",
   "metadata": {},
   "outputs": [
    {
     "data": {
      "text/plain": [
       "['O', ' ', ' ']"
      ]
     },
     "execution_count": 7,
     "metadata": {},
     "output_type": "execute_result"
    }
   ],
   "source": [
    "mylist"
   ]
  },
  {
   "cell_type": "code",
   "execution_count": 9,
   "id": "6dcf3f60",
   "metadata": {},
   "outputs": [],
   "source": [
    "# functions for guess the location\n",
    "\n",
    "def player_guess():\n",
    "    \n",
    "    guess = ''\n",
    "    \n",
    "    while guess not in ['0','1','2']:\n",
    "        guess = input('Pick a number:0,1, or 2')\n",
    "        # input function always return string\n",
    "        \n",
    "    return int(guess) \n",
    "    # index of mylist [' ','O', ' ']"
   ]
  },
  {
   "cell_type": "code",
   "execution_count": 10,
   "id": "4548def2",
   "metadata": {},
   "outputs": [
    {
     "name": "stdout",
     "output_type": "stream",
     "text": [
      "Pick a number:0,1, or 25\n",
      "Pick a number:0,1, or 29\n",
      "Pick a number:0,1, or 22\n"
     ]
    },
    {
     "data": {
      "text/plain": [
       "2"
      ]
     },
     "execution_count": 10,
     "metadata": {},
     "output_type": "execute_result"
    }
   ],
   "source": [
    "player_guess()"
   ]
  },
  {
   "cell_type": "code",
   "execution_count": 11,
   "id": "447c8512",
   "metadata": {},
   "outputs": [],
   "source": [
    "# Check guess correct or not\n",
    "\n",
    "def check_guess(mylist,guess):\n",
    "    \n",
    "    if mylist[guess] == 'O':\n",
    "        print('Correct!')\n",
    "    \n",
    "    else:\n",
    "        print('Wrong guess!')\n",
    "        print(mylist)"
   ]
  },
  {
   "cell_type": "code",
   "execution_count": 12,
   "id": "2e641e60",
   "metadata": {
    "scrolled": true
   },
   "outputs": [
    {
     "name": "stdout",
     "output_type": "stream",
     "text": [
      "Pick a number:0,1, or 25\n",
      "Pick a number:0,1, or 27\n",
      "Pick a number:0,1, or 21\n",
      "Wrong guess!\n",
      "['O', ' ', ' ']\n"
     ]
    }
   ],
   "source": [
    "# Inital list\n",
    "\n",
    "mylist = [' ','O',' ']\n",
    "\n",
    "# Shuffle list\n",
    "\n",
    "mixed_list = shuffle_list(mylist)\n",
    "\n",
    "# User guess\n",
    "\n",
    "guess = player_guess()\n",
    "\n",
    "# Check guess\n",
    "\n",
    "check_guess(mixed_list,guess)"
   ]
  }
 ],
 "metadata": {
  "kernelspec": {
   "display_name": "Python 3 (ipykernel)",
   "language": "python",
   "name": "python3"
  },
  "language_info": {
   "codemirror_mode": {
    "name": "ipython",
    "version": 3
   },
   "file_extension": ".py",
   "mimetype": "text/x-python",
   "name": "python",
   "nbconvert_exporter": "python",
   "pygments_lexer": "ipython3",
   "version": "3.10.10"
  }
 },
 "nbformat": 4,
 "nbformat_minor": 5
}
