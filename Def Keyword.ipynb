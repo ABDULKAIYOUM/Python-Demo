{
 "cells": [
  {
   "cell_type": "code",
   "execution_count": 1,
   "id": "7dc9b417",
   "metadata": {},
   "outputs": [],
   "source": [
    "# Def Keyword\n",
    "\n",
    "def say_hello():\n",
    "    print('Hello')\n",
    "    print('are')\n",
    "    print('you?')"
   ]
  },
  {
   "cell_type": "code",
   "execution_count": 2,
   "id": "8983645c",
   "metadata": {},
   "outputs": [
    {
     "name": "stdout",
     "output_type": "stream",
     "text": [
      "Hello\n",
      "are\n",
      "you?\n"
     ]
    }
   ],
   "source": [
    "say_hello()"
   ]
  },
  {
   "cell_type": "code",
   "execution_count": 3,
   "id": "577cde5b",
   "metadata": {},
   "outputs": [],
   "source": [
    "def say_hello(name):\n",
    "    print(f'Hello {name}')\n",
    "    "
   ]
  },
  {
   "cell_type": "code",
   "execution_count": 4,
   "id": "22871f3d",
   "metadata": {},
   "outputs": [
    {
     "name": "stdout",
     "output_type": "stream",
     "text": [
      "Hello World\n"
     ]
    }
   ],
   "source": [
    "say_hello('World')"
   ]
  },
  {
   "cell_type": "code",
   "execution_count": 5,
   "id": "b4c901df",
   "metadata": {},
   "outputs": [],
   "source": [
    "def say_hello(name = 'Suuny'):\n",
    "    print(f'Hello {name}')"
   ]
  },
  {
   "cell_type": "code",
   "execution_count": 6,
   "id": "7f2ba5a6",
   "metadata": {},
   "outputs": [
    {
     "name": "stdout",
     "output_type": "stream",
     "text": [
      "Hello Suuny\n"
     ]
    }
   ],
   "source": [
    "say_hello()"
   ]
  },
  {
   "cell_type": "code",
   "execution_count": 7,
   "id": "3122abfc",
   "metadata": {},
   "outputs": [],
   "source": [
    "# Return help to save the output with new variable\n",
    "\n",
    "def add_num (num1,num2):\n",
    "    return num1+num2"
   ]
  },
  {
   "cell_type": "code",
   "execution_count": 8,
   "id": "2fbb8244",
   "metadata": {},
   "outputs": [],
   "source": [
    "result = add_num(10,10)"
   ]
  },
  {
   "cell_type": "code",
   "execution_count": 9,
   "id": "3ea369b3",
   "metadata": {},
   "outputs": [
    {
     "data": {
      "text/plain": [
       "20"
      ]
     },
     "execution_count": 9,
     "metadata": {},
     "output_type": "execute_result"
    }
   ],
   "source": [
    "result"
   ]
  },
  {
   "cell_type": "code",
   "execution_count": 10,
   "id": "697c18e5",
   "metadata": {},
   "outputs": [],
   "source": [
    "def sum_num (num1, num2):\n",
    "    return num1+num2"
   ]
  },
  {
   "cell_type": "code",
   "execution_count": 11,
   "id": "c462c065",
   "metadata": {},
   "outputs": [
    {
     "data": {
      "text/plain": [
       "100"
      ]
     },
     "execution_count": 11,
     "metadata": {},
     "output_type": "execute_result"
    }
   ],
   "source": [
    "sum_num(50,50)"
   ]
  },
  {
   "cell_type": "code",
   "execution_count": 12,
   "id": "63ac5e53",
   "metadata": {},
   "outputs": [
    {
     "data": {
      "text/plain": [
       "'5050'"
      ]
     },
     "execution_count": 12,
     "metadata": {},
     "output_type": "execute_result"
    }
   ],
   "source": [
    "sum_num('50','50')"
   ]
  },
  {
   "cell_type": "code",
   "execution_count": 13,
   "id": "d49aebf8",
   "metadata": {},
   "outputs": [
    {
     "data": {
      "text/plain": [
       "'HonneyBanney'"
      ]
     },
     "execution_count": 13,
     "metadata": {},
     "output_type": "execute_result"
    }
   ],
   "source": [
    "sum_num('Honney','Banney')"
   ]
  },
  {
   "cell_type": "code",
   "execution_count": null,
   "id": "4df65ab5",
   "metadata": {},
   "outputs": [],
   "source": []
  }
 ],
 "metadata": {
  "kernelspec": {
   "display_name": "Python 3 (ipykernel)",
   "language": "python",
   "name": "python3"
  },
  "language_info": {
   "codemirror_mode": {
    "name": "ipython",
    "version": 3
   },
   "file_extension": ".py",
   "mimetype": "text/x-python",
   "name": "python",
   "nbconvert_exporter": "python",
   "pygments_lexer": "ipython3",
   "version": "3.10.10"
  }
 },
 "nbformat": 4,
 "nbformat_minor": 5
}
