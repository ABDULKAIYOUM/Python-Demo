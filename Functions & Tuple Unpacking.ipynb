{
 "cells": [
  {
   "cell_type": "code",
   "execution_count": 1,
   "id": "8e8c6230",
   "metadata": {},
   "outputs": [],
   "source": [
    "# Functions & Tuple Unpacking\n",
    "\n",
    "stock_price = [('apple', 200),('google',400),('ms',300)]"
   ]
  },
  {
   "cell_type": "code",
   "execution_count": 2,
   "id": "f0474c00",
   "metadata": {},
   "outputs": [
    {
     "name": "stdout",
     "output_type": "stream",
     "text": [
      "('apple', 200)\n",
      "('google', 400)\n",
      "('ms', 300)\n"
     ]
    }
   ],
   "source": [
    "#print tuple\n",
    "\n",
    "for item in stock_price:\n",
    "    print(item)"
   ]
  },
  {
   "cell_type": "code",
   "execution_count": 3,
   "id": "dde3442f",
   "metadata": {},
   "outputs": [
    {
     "name": "stdout",
     "output_type": "stream",
     "text": [
      "apple\n",
      "200\n",
      "google\n",
      "400\n",
      "ms\n",
      "300\n"
     ]
    }
   ],
   "source": [
    "# Grab individual item\n",
    "\n",
    "for product, price in stock_price:\n",
    "    print(product)\n",
    "    print(price)"
   ]
  },
  {
   "cell_type": "code",
   "execution_count": 4,
   "id": "6b21fddd",
   "metadata": {},
   "outputs": [
    {
     "name": "stdout",
     "output_type": "stream",
     "text": [
      "220.0\n",
      "440.0\n",
      "330.0\n"
     ]
    }
   ],
   "source": [
    "# 10% increase of price\n",
    "\n",
    "for product, price in stock_price:\n",
    "    print(price + (0.1*price))"
   ]
  },
  {
   "cell_type": "code",
   "execution_count": 6,
   "id": "45c6799a",
   "metadata": {},
   "outputs": [],
   "source": [
    "stock_price = [('apple', 200),('google',400),('ms',300)]"
   ]
  },
  {
   "cell_type": "code",
   "execution_count": 7,
   "id": "e509787b",
   "metadata": {},
   "outputs": [],
   "source": [
    "def price_check(stock_price):\n",
    "    \n",
    "    max_price = 0\n",
    "    product = ''\n",
    "    \n",
    "    for stock, price in stock_price:\n",
    "        if price > max_price:\n",
    "            max_price = price\n",
    "            product = stock\n",
    "        else:\n",
    "            pass\n",
    "    \n",
    "    return ( product,max_price)\n"
   ]
  },
  {
   "cell_type": "code",
   "execution_count": 8,
   "id": "8ae3c8cc",
   "metadata": {},
   "outputs": [
    {
     "data": {
      "text/plain": [
       "('google', 400)"
      ]
     },
     "execution_count": 8,
     "metadata": {},
     "output_type": "execute_result"
    }
   ],
   "source": [
    "price_check(stock_price)"
   ]
  },
  {
   "cell_type": "code",
   "execution_count": 9,
   "id": "8a1ee9c6",
   "metadata": {},
   "outputs": [],
   "source": [
    "# Tuple Unpacking\n",
    "product , max_price = price_check(stock_price)"
   ]
  },
  {
   "cell_type": "code",
   "execution_count": 10,
   "id": "a2e3ba50",
   "metadata": {},
   "outputs": [
    {
     "data": {
      "text/plain": [
       "'google'"
      ]
     },
     "execution_count": 10,
     "metadata": {},
     "output_type": "execute_result"
    }
   ],
   "source": [
    "product"
   ]
  },
  {
   "cell_type": "code",
   "execution_count": 11,
   "id": "117209cd",
   "metadata": {},
   "outputs": [
    {
     "data": {
      "text/plain": [
       "400"
      ]
     },
     "execution_count": 11,
     "metadata": {},
     "output_type": "execute_result"
    }
   ],
   "source": [
    "max_price"
   ]
  },
  {
   "cell_type": "code",
   "execution_count": 12,
   "id": "b1a4095e",
   "metadata": {},
   "outputs": [],
   "source": [
    "work_hours = [('Jenny',80),('Sammy',150),('Emmy',120)]"
   ]
  },
  {
   "cell_type": "code",
   "execution_count": 15,
   "id": "52f3ee10",
   "metadata": {},
   "outputs": [],
   "source": [
    "def employee_check(work_hours):\n",
    "    \n",
    "    current_max = 0\n",
    "    employee_of_month = ''\n",
    "    \n",
    "    for employee,hours in work_hours:\n",
    "        if hours > current_max:\n",
    "            current_max = hours\n",
    "            employee_of_month = employee\n",
    "        \n",
    "        else:\n",
    "            pass\n",
    "            \n",
    "    \n",
    "    # Return as tuple\n",
    "    return (employee_of_month,current_max)"
   ]
  },
  {
   "cell_type": "code",
   "execution_count": 16,
   "id": "dbec4f2c",
   "metadata": {},
   "outputs": [
    {
     "data": {
      "text/plain": [
       "('Sammy', 150)"
      ]
     },
     "execution_count": 16,
     "metadata": {},
     "output_type": "execute_result"
    }
   ],
   "source": [
    "employee_check(work_hours)"
   ]
  },
  {
   "cell_type": "code",
   "execution_count": null,
   "id": "ccb3d2f9",
   "metadata": {},
   "outputs": [],
   "source": []
  }
 ],
 "metadata": {
  "kernelspec": {
   "display_name": "Python 3 (ipykernel)",
   "language": "python",
   "name": "python3"
  },
  "language_info": {
   "codemirror_mode": {
    "name": "ipython",
    "version": 3
   },
   "file_extension": ".py",
   "mimetype": "text/x-python",
   "name": "python",
   "nbconvert_exporter": "python",
   "pygments_lexer": "ipython3",
   "version": "3.10.10"
  }
 },
 "nbformat": 4,
 "nbformat_minor": 5
}
